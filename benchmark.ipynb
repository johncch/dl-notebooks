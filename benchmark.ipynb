{
 "cells": [
  {
   "cell_type": "code",
   "execution_count": 22,
   "metadata": {},
   "outputs": [],
   "source": [
    "import tensorflow as tf"
   ]
  },
  {
   "cell_type": "code",
   "execution_count": 23,
   "metadata": {},
   "outputs": [
    {
     "data": {
      "text/plain": [
       "[PhysicalDevice(name='/physical_device:CPU:0', device_type='CPU'),\n",
       " PhysicalDevice(name='/physical_device:GPU:0', device_type='GPU')]"
      ]
     },
     "execution_count": 23,
     "metadata": {},
     "output_type": "execute_result"
    }
   ],
   "source": [
    "tf.config.experimental.list_physical_devices()"
   ]
  },
  {
   "cell_type": "markdown",
   "metadata": {},
   "source": [
    "## Test One - Training Digit classifier"
   ]
  },
  {
   "cell_type": "code",
   "execution_count": 24,
   "metadata": {},
   "outputs": [],
   "source": [
    "import tensorflow as tf\n",
    "from tensorflow import keras\n",
    "import numpy as np\n",
    "import matplotlib.pyplot as plt"
   ]
  },
  {
   "cell_type": "code",
   "execution_count": 25,
   "metadata": {},
   "outputs": [],
   "source": [
    "(X_train, y_train), (X_test, y_test) = keras.datasets.cifar10.load_data()"
   ]
  },
  {
   "cell_type": "code",
   "execution_count": 26,
   "metadata": {},
   "outputs": [
    {
     "data": {
      "text/plain": [
       "((50000, 32, 32, 3), (10000, 32, 32, 3))"
      ]
     },
     "execution_count": 26,
     "metadata": {},
     "output_type": "execute_result"
    }
   ],
   "source": [
    "X_train.shape, X_test.shape"
   ]
  },
  {
   "cell_type": "code",
   "execution_count": 27,
   "metadata": {},
   "outputs": [
    {
     "data": {
      "text/plain": [
       "(32, 32, 3)"
      ]
     },
     "execution_count": 27,
     "metadata": {},
     "output_type": "execute_result"
    }
   ],
   "source": [
    "X_train[0].shape"
   ]
  },
  {
   "cell_type": "code",
   "execution_count": 28,
   "metadata": {},
   "outputs": [
    {
     "data": {
      "text/plain": [
       "array([[6],\n",
       "       [9],\n",
       "       [9],\n",
       "       [4],\n",
       "       [1]], dtype=uint8)"
      ]
     },
     "execution_count": 28,
     "metadata": {},
     "output_type": "execute_result"
    }
   ],
   "source": [
    "y_train[:5]"
   ]
  },
  {
   "cell_type": "code",
   "execution_count": 29,
   "metadata": {},
   "outputs": [],
   "source": [
    "X_train_scaled = X_train / 255\n",
    "X_test_scaled = X_test / 255"
   ]
  },
  {
   "cell_type": "code",
   "execution_count": 30,
   "metadata": {},
   "outputs": [],
   "source": [
    "y_train_encoded = keras.utils.to_categorical(y_train, num_classes=10, dtype=\"float32\")\n",
    "y_test_encoded = keras.utils.to_categorical(y_test, num_classes=10, dtype=\"float32\")"
   ]
  },
  {
   "cell_type": "code",
   "execution_count": 31,
   "metadata": {},
   "outputs": [],
   "source": [
    "def get_model():\n",
    "    model = keras.Sequential([\n",
    "        keras.layers.Flatten(input_shape=(32, 32, 3)),\n",
    "        keras.layers.Dense(3000, activation=\"relu\"),\n",
    "        keras.layers.Dense(1000, activation=\"relu\"),\n",
    "        keras.layers.Dense(10, activation=\"sigmoid\")\n",
    "    ])\n",
    "    model.compile(optimizer=\"SGD\",\n",
    "                loss=\"categorical_crossentropy\",\n",
    "                metrics=[\"accuracy\"]\n",
    "    )\n",
    "    return model"
   ]
  },
  {
   "cell_type": "code",
   "execution_count": 40,
   "metadata": {},
   "outputs": [
    {
     "name": "stdout",
     "output_type": "stream",
     "text": [
      "Epoch 1/10\n",
      "7/7 [==============================] - 5s 705ms/step - loss: 2.3017 - accuracy: 0.1296\n",
      "Epoch 2/10\n",
      "7/7 [==============================] - 5s 725ms/step - loss: 2.2118 - accuracy: 0.2001\n",
      "Epoch 3/10\n",
      "7/7 [==============================] - 5s 707ms/step - loss: 2.1596 - accuracy: 0.2395\n",
      "Epoch 4/10\n",
      "7/7 [==============================] - 5s 755ms/step - loss: 2.1184 - accuracy: 0.2649\n",
      "Epoch 5/10\n",
      "7/7 [==============================] - 6s 771ms/step - loss: 2.0863 - accuracy: 0.2773\n",
      "Epoch 6/10\n",
      "7/7 [==============================] - 5s 713ms/step - loss: 2.0585 - accuracy: 0.2869\n",
      "Epoch 7/10\n",
      "7/7 [==============================] - 5s 765ms/step - loss: 2.0358 - accuracy: 0.2969\n",
      "Epoch 8/10\n",
      "7/7 [==============================] - 5s 742ms/step - loss: 2.0163 - accuracy: 0.3044\n",
      "Epoch 9/10\n",
      "7/7 [==============================] - 5s 723ms/step - loss: 1.9985 - accuracy: 0.3102\n",
      "Epoch 10/10\n",
      "7/7 [==============================] - 5s 745ms/step - loss: 1.9839 - accuracy: 0.3185\n",
      "53.1 s ± 0 ns per loop (mean ± std. dev. of 1 run, 1 loop each)\n"
     ]
    }
   ],
   "source": [
    "%%timeit -n1 -r1\n",
    "# CPU\n",
    "with tf.device(\"/CPU:0\"):\n",
    "    model_cpu = get_model()\n",
    "    model_cpu.fit(X_train_scaled, y_train_encoded, epochs=10, batch_size=8192)"
   ]
  },
  {
   "cell_type": "code",
   "execution_count": 41,
   "metadata": {},
   "outputs": [
    {
     "name": "stdout",
     "output_type": "stream",
     "text": [
      "Epoch 1/10\n"
     ]
    },
    {
     "name": "stderr",
     "output_type": "stream",
     "text": [
      "2022-04-30 20:33:38.280103: I tensorflow/core/grappler/optimizers/custom_graph_optimizer_registry.cc:112] Plugin optimizer for device_type GPU is enabled.\n"
     ]
    },
    {
     "name": "stdout",
     "output_type": "stream",
     "text": [
      "7/7 [==============================] - 1s 71ms/step - loss: 2.3181 - accuracy: 0.1264\n",
      "Epoch 2/10\n",
      "7/7 [==============================] - 0s 68ms/step - loss: 2.2176 - accuracy: 0.2030\n",
      "Epoch 3/10\n",
      "7/7 [==============================] - 0s 65ms/step - loss: 2.1613 - accuracy: 0.2451\n",
      "Epoch 4/10\n",
      "7/7 [==============================] - 0s 66ms/step - loss: 2.1203 - accuracy: 0.2656\n",
      "Epoch 5/10\n",
      "7/7 [==============================] - 0s 66ms/step - loss: 2.0868 - accuracy: 0.2802\n",
      "Epoch 6/10\n",
      "7/7 [==============================] - 0s 66ms/step - loss: 2.0596 - accuracy: 0.2932\n",
      "Epoch 7/10\n",
      "7/7 [==============================] - 0s 65ms/step - loss: 2.0365 - accuracy: 0.3004\n",
      "Epoch 8/10\n",
      "7/7 [==============================] - 0s 65ms/step - loss: 2.0167 - accuracy: 0.3080\n",
      "Epoch 9/10\n",
      "7/7 [==============================] - 0s 66ms/step - loss: 1.9990 - accuracy: 0.3164\n",
      "Epoch 10/10\n",
      "7/7 [==============================] - 0s 65ms/step - loss: 1.9832 - accuracy: 0.3241\n",
      "5.39 s ± 0 ns per loop (mean ± std. dev. of 1 run, 1 loop each)\n"
     ]
    }
   ],
   "source": [
    "%%timeit -n1 -r1\n",
    "# GPU\n",
    "with tf.device(\"/GPU:0\"):\n",
    "    model_gpu = get_model()\n",
    "    model_gpu.fit(X_train_scaled, y_train_encoded, epochs = 10, batch_size=8192)"
   ]
  },
  {
   "cell_type": "markdown",
   "metadata": {},
   "source": [
    "## Test Two - Training Clothes Classifier"
   ]
  },
  {
   "cell_type": "code",
   "execution_count": 13,
   "metadata": {},
   "outputs": [
    {
     "name": "stdout",
     "output_type": "stream",
     "text": [
      "Downloading data from https://storage.googleapis.com/tensorflow/tf-keras-datasets/train-labels-idx1-ubyte.gz\n",
      "32768/29515 [=================================] - 0s 0us/step\n",
      "40960/29515 [=========================================] - 0s 0us/step\n",
      "Downloading data from https://storage.googleapis.com/tensorflow/tf-keras-datasets/train-images-idx3-ubyte.gz\n",
      "26427392/26421880 [==============================] - 1s 0us/step\n",
      "26435584/26421880 [==============================] - 1s 0us/step\n",
      "Downloading data from https://storage.googleapis.com/tensorflow/tf-keras-datasets/t10k-labels-idx1-ubyte.gz\n",
      "16384/5148 [===============================================================================================] - 0s 0us/step\n",
      "Downloading data from https://storage.googleapis.com/tensorflow/tf-keras-datasets/t10k-images-idx3-ubyte.gz\n",
      "4423680/4422102 [==============================] - 1s 0us/step\n",
      "4431872/4422102 [==============================] - 1s 0us/step\n"
     ]
    }
   ],
   "source": [
    "# loading dataset\n",
    "fashion_mnist = keras.datasets.fashion_mnist\n",
    "(train_images, train_labels), (test_images, test_labels) = fashion_mnist.load_data()"
   ]
  },
  {
   "cell_type": "code",
   "execution_count": 14,
   "metadata": {},
   "outputs": [
    {
     "name": "stdout",
     "output_type": "stream",
     "text": [
      "(60000, 28, 28)\n",
      "9\n"
     ]
    }
   ],
   "source": [
    "# checking shape\n",
    "\n",
    "print(train_images.shape)\n",
    "\n",
    "print(train_labels[0])"
   ]
  },
  {
   "cell_type": "code",
   "execution_count": 15,
   "metadata": {},
   "outputs": [
    {
     "data": {
      "text/plain": [
       "'Ankle boot'"
      ]
     },
     "execution_count": 15,
     "metadata": {},
     "output_type": "execute_result"
    },
    {
     "data": {
      "image/png": "[encoded data removed]",
      "text/plain": [
       "<Figure size 432x288 with 1 Axes>"
      ]
     },
     "metadata": {
      "needs_background": "light"
     },
     "output_type": "display_data"
    }
   ],
   "source": [
    "# checking images\n",
    "class_names = ['T-shirt/top', 'Trouser', 'Pullover', 'Dress', 'Coat',\n",
    "               'Sandal', 'Shirt', 'Sneaker', 'Bag', 'Ankle boot']\n",
    "plt.imshow(train_images[0])\n",
    "class_names[train_labels[0]]"
   ]
  },
  {
   "cell_type": "code",
   "execution_count": 16,
   "metadata": {},
   "outputs": [],
   "source": [
    "# scaling\n",
    "train_images_scaled = train_images / 255.0\n",
    "test_images_scaled = test_images / 255.0"
   ]
  },
  {
   "cell_type": "code",
   "execution_count": 17,
   "metadata": {},
   "outputs": [],
   "source": [
    "def get_model(hidden_layers=1):\n",
    "    # Flatten layer for input\n",
    "    layers = [keras.layers.Flatten(input_shape=(28, 28))]\n",
    "    # hideen layers\n",
    "    for i in range(hidden_layers):\n",
    "        layers.append(keras.layers.Dense(500, activation='relu'),)\n",
    "    # output layer    \n",
    "    layers.append(keras.layers.Dense(10, activation='sigmoid'))\n",
    "    model = keras.Sequential(layers)\n",
    "    model.compile(optimizer='adam',\n",
    "                  loss='sparse_categorical_crossentropy',\n",
    "                  metrics=['accuracy'])\n",
    "    return model"
   ]
  },
  {
   "cell_type": "code",
   "execution_count": 21,
   "metadata": {},
   "outputs": [
    {
     "name": "stdout",
     "output_type": "stream",
     "text": [
      "Epoch 1/5\n",
      "1875/1875 [==============================] - 8s 4ms/step - loss: 0.5132 - accuracy: 0.8142\n",
      "Epoch 2/5\n",
      "1875/1875 [==============================] - 8s 4ms/step - loss: 0.3871 - accuracy: 0.8605\n",
      "Epoch 3/5\n",
      "1875/1875 [==============================] - 8s 4ms/step - loss: 0.3537 - accuracy: 0.8740\n",
      "Epoch 4/5\n",
      "1875/1875 [==============================] - 8s 4ms/step - loss: 0.3253 - accuracy: 0.8827\n",
      "Epoch 5/5\n",
      "1875/1875 [==============================] - 8s 4ms/step - loss: 0.3095 - accuracy: 0.8873\n",
      "39.4 s ± 0 ns per loop (mean ± std. dev. of 1 run, 1 loop each)\n"
     ]
    }
   ],
   "source": [
    "%%timeit -n1 -r1\n",
    "with tf.device(\"/CPU:0\"):\n",
    "    cpu_model = get_model(hidden_layers=5)\n",
    "    cpu_model.fit(train_images_scaled, train_labels, epochs=5)"
   ]
  },
  {
   "cell_type": "code",
   "execution_count": 20,
   "metadata": {},
   "outputs": [
    {
     "name": "stdout",
     "output_type": "stream",
     "text": [
      "Epoch 1/5\n",
      "   7/1875 [..............................] - ETA: 19s - loss: 1.9921 - accuracy: 0.2455  "
     ]
    },
    {
     "name": "stderr",
     "output_type": "stream",
     "text": [
      "2022-04-30 20:20:04.140101: I tensorflow/core/grappler/optimizers/custom_graph_optimizer_registry.cc:112] Plugin optimizer for device_type GPU is enabled.\n"
     ]
    },
    {
     "name": "stdout",
     "output_type": "stream",
     "text": [
      "1875/1875 [==============================] - 12s 6ms/step - loss: 0.5197 - accuracy: 0.8137\n",
      "Epoch 2/5\n",
      "1875/1875 [==============================] - 12s 6ms/step - loss: 0.3907 - accuracy: 0.8600\n",
      "Epoch 3/5\n",
      "1875/1875 [==============================] - 12s 6ms/step - loss: 0.3523 - accuracy: 0.8731\n",
      "Epoch 4/5\n",
      "1875/1875 [==============================] - 12s 6ms/step - loss: 0.3254 - accuracy: 0.8827\n",
      "Epoch 5/5\n",
      "1875/1875 [==============================] - 12s 6ms/step - loss: 0.3079 - accuracy: 0.8875\n",
      "59.1 s ± 0 ns per loop (mean ± std. dev. of 1 run, 1 loop each)\n"
     ]
    }
   ],
   "source": [
    "%%timeit -n1 -r1\n",
    "with tf.device('/GPU:0'):\n",
    "    gpu_model = get_model(hidden_layers=5)\n",
    "    gpu_model.fit(train_images_scaled, train_labels, epochs=5)"
   ]
  }
 ],
 "metadata": {
  "interpreter": {
   "hash": "40527a5e21a0fe71350810bdaf893be95d4327fbe99858a2d25f6483c406c492"
  },
  "kernelspec": {
   "display_name": "Python 3.8.12 ('tf')",
   "language": "python",
   "name": "python3"
  },
  "language_info": {
   "codemirror_mode": {
    "name": "ipython",
    "version": 3
   },
   "file_extension": ".py",
   "mimetype": "text/x-python",
   "name": "python",
   "nbconvert_exporter": "python",
   "pygments_lexer": "ipython3",
   "version": "3.8.12"
  },
  "orig_nbformat": 4
 },
 "nbformat": 4,
 "nbformat_minor": 2
}
