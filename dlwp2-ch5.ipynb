{
 "cells": [
  {
   "cell_type": "code",
   "execution_count": 1,
   "metadata": {},
   "outputs": [],
   "source": [
    "import tensorflow as tf\n",
    "import numpy as np\n",
    "import matplotlib.pyplot as plt"
   ]
  },
  {
   "cell_type": "code",
   "execution_count": 5,
   "metadata": {},
   "outputs": [],
   "source": [
    "from tensorflow.keras.datasets import mnist\n",
    "\n",
    "(train_images, train_labels), _ = mnist.load_data()\n",
    "train_images = train_images.reshape((60000, 28*28))\n",
    "train_images = train_images.astype(\"float32\") / 255\n",
    "\n",
    "train_images_with_noise_channels = np.concatenate(\n",
    "    [train_images, np.random.random((len(train_images), 784))],\n",
    "    axis = 1\n",
    ")\n",
    "\n",
    "train_images_with_zeros_channels = np.concatenate(\n",
    "    [train_images, np.zeros((len(train_images), 784))],\n",
    "    axis = 1\n",
    ")"
   ]
  },
  {
   "cell_type": "code",
   "execution_count": 6,
   "metadata": {},
   "outputs": [
    {
     "name": "stdout",
     "output_type": "stream",
     "text": [
      "Metal device set to: Apple M1 Max\n",
      "\n",
      "systemMemory: 64.00 GB\n",
      "maxCacheSize: 24.00 GB\n",
      "\n"
     ]
    },
    {
     "name": "stderr",
     "output_type": "stream",
     "text": [
      "2022-05-01 21:39:59.395441: I tensorflow/core/common_runtime/pluggable_device/pluggable_device_factory.cc:305] Could not identify NUMA node of platform GPU ID 0, defaulting to 0. Your kernel may not have been built with NUMA support.\n",
      "2022-05-01 21:39:59.395588: I tensorflow/core/common_runtime/pluggable_device/pluggable_device_factory.cc:271] Created TensorFlow device (/job:localhost/replica:0/task:0/device:GPU:0 with 0 MB memory) -> physical PluggableDevice (device: 0, name: METAL, pci bus id: <undefined>)\n",
      "2022-05-01 21:39:59.596177: W tensorflow/core/platform/profile_utils/cpu_utils.cc:128] Failed to get CPU frequency: 0 Hz\n"
     ]
    },
    {
     "name": "stdout",
     "output_type": "stream",
     "text": [
      "Epoch 1/10\n"
     ]
    },
    {
     "name": "stderr",
     "output_type": "stream",
     "text": [
      "2022-05-01 21:39:59.738851: I tensorflow/core/grappler/optimizers/custom_graph_optimizer_registry.cc:112] Plugin optimizer for device_type GPU is enabled.\n"
     ]
    },
    {
     "name": "stdout",
     "output_type": "stream",
     "text": [
      "375/375 [==============================] - ETA: 0s - loss: 0.6104 - accuracy: 0.8159"
     ]
    },
    {
     "name": "stderr",
     "output_type": "stream",
     "text": [
      "2022-05-01 21:40:02.271105: I tensorflow/core/grappler/optimizers/custom_graph_optimizer_registry.cc:112] Plugin optimizer for device_type GPU is enabled.\n"
     ]
    },
    {
     "name": "stdout",
     "output_type": "stream",
     "text": [
      "375/375 [==============================] - 3s 7ms/step - loss: 0.6104 - accuracy: 0.8159 - val_loss: 0.2960 - val_accuracy: 0.9067\n",
      "Epoch 2/10\n",
      "375/375 [==============================] - 2s 6ms/step - loss: 0.2478 - accuracy: 0.9229 - val_loss: 0.1892 - val_accuracy: 0.9411\n",
      "Epoch 3/10\n",
      "375/375 [==============================] - 2s 6ms/step - loss: 0.1636 - accuracy: 0.9488 - val_loss: 0.1383 - val_accuracy: 0.9591\n",
      "Epoch 4/10\n",
      "375/375 [==============================] - 2s 6ms/step - loss: 0.1154 - accuracy: 0.9639 - val_loss: 0.1203 - val_accuracy: 0.9647\n",
      "Epoch 5/10\n",
      "375/375 [==============================] - 2s 6ms/step - loss: 0.0846 - accuracy: 0.9730 - val_loss: 0.1726 - val_accuracy: 0.9502\n",
      "Epoch 6/10\n",
      "375/375 [==============================] - 2s 6ms/step - loss: 0.0621 - accuracy: 0.9800 - val_loss: 0.1305 - val_accuracy: 0.9622\n",
      "Epoch 7/10\n",
      "375/375 [==============================] - 2s 6ms/step - loss: 0.0452 - accuracy: 0.9855 - val_loss: 0.1322 - val_accuracy: 0.9668\n",
      "Epoch 8/10\n",
      "375/375 [==============================] - 2s 6ms/step - loss: 0.0356 - accuracy: 0.9881 - val_loss: 0.1251 - val_accuracy: 0.9671\n",
      "Epoch 9/10\n",
      "375/375 [==============================] - 2s 6ms/step - loss: 0.0262 - accuracy: 0.9914 - val_loss: 0.1359 - val_accuracy: 0.9675\n",
      "Epoch 10/10\n",
      "375/375 [==============================] - 2s 6ms/step - loss: 0.0199 - accuracy: 0.9933 - val_loss: 0.1579 - val_accuracy: 0.9646\n",
      "Epoch 1/10\n",
      " 21/375 [>.............................] - ETA: 1s - loss: 0.9369 - accuracy: 0.7262"
     ]
    },
    {
     "name": "stderr",
     "output_type": "stream",
     "text": [
      "2022-05-01 21:40:22.265879: I tensorflow/core/grappler/optimizers/custom_graph_optimizer_registry.cc:112] Plugin optimizer for device_type GPU is enabled.\n"
     ]
    },
    {
     "name": "stdout",
     "output_type": "stream",
     "text": [
      "368/375 [============================>.] - ETA: 0s - loss: 0.2904 - accuracy: 0.9148"
     ]
    },
    {
     "name": "stderr",
     "output_type": "stream",
     "text": [
      "2022-05-01 21:40:24.324069: I tensorflow/core/grappler/optimizers/custom_graph_optimizer_registry.cc:112] Plugin optimizer for device_type GPU is enabled.\n"
     ]
    },
    {
     "name": "stdout",
     "output_type": "stream",
     "text": [
      "375/375 [==============================] - 2s 6ms/step - loss: 0.2879 - accuracy: 0.9156 - val_loss: 0.1420 - val_accuracy: 0.9605\n",
      "Epoch 2/10\n",
      "375/375 [==============================] - 2s 6ms/step - loss: 0.1179 - accuracy: 0.9651 - val_loss: 0.1016 - val_accuracy: 0.9697\n",
      "Epoch 3/10\n",
      "375/375 [==============================] - 2s 6ms/step - loss: 0.0775 - accuracy: 0.9764 - val_loss: 0.0889 - val_accuracy: 0.9717\n",
      "Epoch 4/10\n",
      "375/375 [==============================] - 2s 6ms/step - loss: 0.0566 - accuracy: 0.9831 - val_loss: 0.0862 - val_accuracy: 0.9755\n",
      "Epoch 5/10\n",
      "375/375 [==============================] - 2s 6ms/step - loss: 0.0417 - accuracy: 0.9879 - val_loss: 0.0764 - val_accuracy: 0.9778\n",
      "Epoch 6/10\n",
      "375/375 [==============================] - 2s 6ms/step - loss: 0.0307 - accuracy: 0.9911 - val_loss: 0.0804 - val_accuracy: 0.9766\n",
      "Epoch 7/10\n",
      "375/375 [==============================] - 2s 6ms/step - loss: 0.0242 - accuracy: 0.9928 - val_loss: 0.0826 - val_accuracy: 0.9783\n",
      "Epoch 8/10\n",
      "375/375 [==============================] - 2s 6ms/step - loss: 0.0182 - accuracy: 0.9945 - val_loss: 0.0859 - val_accuracy: 0.9776\n",
      "Epoch 9/10\n",
      "375/375 [==============================] - 2s 6ms/step - loss: 0.0137 - accuracy: 0.9964 - val_loss: 0.0823 - val_accuracy: 0.9794\n",
      "Epoch 10/10\n",
      "375/375 [==============================] - 2s 6ms/step - loss: 0.0106 - accuracy: 0.9971 - val_loss: 0.0860 - val_accuracy: 0.9801\n"
     ]
    }
   ],
   "source": [
    "from tensorflow import keras \n",
    "from tensorflow.keras import layers\n",
    "  \n",
    "def get_model():\n",
    "    model = keras.Sequential([\n",
    "        layers.Dense(512, activation=\"relu\"),\n",
    "        layers.Dense(10, activation=\"softmax\")\n",
    "    ])\n",
    "    model.compile(optimizer=\"rmsprop\",\n",
    "                  loss=\"sparse_categorical_crossentropy\",\n",
    "                  metrics=[\"accuracy\"])\n",
    "    return model\n",
    "  \n",
    "model = get_model()\n",
    "history_noise = model.fit(\n",
    "    train_images_with_noise_channels, train_labels,\n",
    "    epochs=10,\n",
    "    batch_size=128,\n",
    "    validation_split=0.2)\n",
    "  \n",
    "model = get_model()\n",
    "history_zeros = model.fit(\n",
    "    train_images_with_zeros_channels, train_labels,\n",
    "    epochs=10,\n",
    "    batch_size=128,\n",
    "    validation_split=0.2)"
   ]
  },
  {
   "cell_type": "code",
   "execution_count": 7,
   "metadata": {},
   "outputs": [
    {
     "data": {
      "text/plain": [
       "<matplotlib.legend.Legend at 0x28cad05b0>"
      ]
     },
     "execution_count": 7,
     "metadata": {},
     "output_type": "execute_result"
    },
    {
     "data": {
      "image/png": "[encoded data removed]",
      "text/plain": [
       "<Figure size 432x288 with 1 Axes>"
      ]
     },
     "metadata": {
      "needs_background": "light"
     },
     "output_type": "display_data"
    }
   ],
   "source": [
    "val_acc_noise = history_noise.history[\"val_accuracy\"]\n",
    "val_acc_zeros = history_zeros.history[\"val_accuracy\"]\n",
    "epochs = range(1, 11)\n",
    "plt.plot(epochs, val_acc_noise, \"b-\",\n",
    "         label=\"Validation accuracy with noise channels\")\n",
    "plt.plot(epochs, val_acc_zeros, \"b--\",\n",
    "         label=\"Validation accuracy with zeros channels\")\n",
    "plt.title(\"Effect of noise channels on validation accuracy\")\n",
    "plt.xlabel(\"Epochs\")\n",
    "plt.ylabel(\"Accuracy\")\n",
    "plt.legend()"
   ]
  },
  {
   "cell_type": "code",
   "execution_count": 9,
   "metadata": {},
   "outputs": [
    {
     "name": "stdout",
     "output_type": "stream",
     "text": [
      "Epoch 1/100\n",
      " 22/375 [>.............................] - ETA: 1s - loss: 2.3859 - accuracy: 0.0888"
     ]
    },
    {
     "name": "stderr",
     "output_type": "stream",
     "text": [
      "2022-05-01 21:46:32.045655: I tensorflow/core/grappler/optimizers/custom_graph_optimizer_registry.cc:112] Plugin optimizer for device_type GPU is enabled.\n"
     ]
    },
    {
     "name": "stdout",
     "output_type": "stream",
     "text": [
      "369/375 [============================>.] - ETA: 0s - loss: 2.3173 - accuracy: 0.1027"
     ]
    },
    {
     "name": "stderr",
     "output_type": "stream",
     "text": [
      "2022-05-01 21:46:34.055479: I tensorflow/core/grappler/optimizers/custom_graph_optimizer_registry.cc:112] Plugin optimizer for device_type GPU is enabled.\n"
     ]
    },
    {
     "name": "stdout",
     "output_type": "stream",
     "text": [
      "375/375 [==============================] - 2s 6ms/step - loss: 2.3171 - accuracy: 0.1030 - val_loss: 2.3088 - val_accuracy: 0.1032\n",
      "Epoch 2/100\n",
      "375/375 [==============================] - 2s 6ms/step - loss: 2.3002 - accuracy: 0.1160 - val_loss: 2.3141 - val_accuracy: 0.1023\n",
      "Epoch 3/100\n",
      "375/375 [==============================] - 2s 6ms/step - loss: 2.2910 - accuracy: 0.1249 - val_loss: 2.3179 - val_accuracy: 0.1077\n",
      "Epoch 4/100\n",
      "375/375 [==============================] - 2s 6ms/step - loss: 2.2775 - accuracy: 0.1393 - val_loss: 2.3267 - val_accuracy: 0.0969\n",
      "Epoch 5/100\n",
      "375/375 [==============================] - 2s 5ms/step - loss: 2.2610 - accuracy: 0.1547 - val_loss: 2.3421 - val_accuracy: 0.1020\n",
      "Epoch 6/100\n",
      "375/375 [==============================] - 2s 6ms/step - loss: 2.2410 - accuracy: 0.1655 - val_loss: 2.3477 - val_accuracy: 0.1001\n",
      "Epoch 7/100\n",
      "375/375 [==============================] - 2s 6ms/step - loss: 2.2180 - accuracy: 0.1803 - val_loss: 2.3661 - val_accuracy: 0.0992\n",
      "Epoch 8/100\n",
      "375/375 [==============================] - 2s 6ms/step - loss: 2.1918 - accuracy: 0.1960 - val_loss: 2.3918 - val_accuracy: 0.0987\n",
      "Epoch 9/100\n",
      "375/375 [==============================] - 2s 6ms/step - loss: 2.1624 - accuracy: 0.2088 - val_loss: 2.4002 - val_accuracy: 0.0996\n",
      "Epoch 10/100\n",
      "375/375 [==============================] - 2s 6ms/step - loss: 2.1312 - accuracy: 0.2280 - val_loss: 2.4254 - val_accuracy: 0.1011\n",
      "Epoch 11/100\n",
      "375/375 [==============================] - 2s 6ms/step - loss: 2.0989 - accuracy: 0.2428 - val_loss: 2.4459 - val_accuracy: 0.0956\n",
      "Epoch 12/100\n",
      "375/375 [==============================] - 2s 6ms/step - loss: 2.0652 - accuracy: 0.2580 - val_loss: 2.4785 - val_accuracy: 0.0999\n",
      "Epoch 13/100\n",
      "375/375 [==============================] - 2s 5ms/step - loss: 2.0301 - accuracy: 0.2747 - val_loss: 2.4936 - val_accuracy: 0.1025\n",
      "Epoch 14/100\n",
      "375/375 [==============================] - 2s 6ms/step - loss: 1.9959 - accuracy: 0.2894 - val_loss: 2.5306 - val_accuracy: 0.1013\n",
      "Epoch 15/100\n",
      "375/375 [==============================] - 2s 6ms/step - loss: 1.9607 - accuracy: 0.3070 - val_loss: 2.5712 - val_accuracy: 0.1002\n",
      "Epoch 16/100\n",
      "375/375 [==============================] - 2s 6ms/step - loss: 1.9256 - accuracy: 0.3209 - val_loss: 2.6094 - val_accuracy: 0.0958\n",
      "Epoch 17/100\n",
      "375/375 [==============================] - 2s 6ms/step - loss: 1.8928 - accuracy: 0.3341 - val_loss: 2.6160 - val_accuracy: 0.0968\n",
      "Epoch 18/100\n",
      "375/375 [==============================] - 2s 6ms/step - loss: 1.8587 - accuracy: 0.3463 - val_loss: 2.6679 - val_accuracy: 0.0983\n",
      "Epoch 19/100\n",
      "375/375 [==============================] - 2s 6ms/step - loss: 1.8245 - accuracy: 0.3593 - val_loss: 2.6972 - val_accuracy: 0.1004\n",
      "Epoch 20/100\n",
      "375/375 [==============================] - 2s 6ms/step - loss: 1.7915 - accuracy: 0.3731 - val_loss: 2.7438 - val_accuracy: 0.0979\n",
      "Epoch 21/100\n",
      "375/375 [==============================] - 2s 5ms/step - loss: 1.7599 - accuracy: 0.3860 - val_loss: 2.7760 - val_accuracy: 0.0992\n",
      "Epoch 22/100\n",
      "375/375 [==============================] - 2s 6ms/step - loss: 1.7290 - accuracy: 0.4013 - val_loss: 2.8149 - val_accuracy: 0.0993\n",
      "Epoch 23/100\n",
      "375/375 [==============================] - 2s 6ms/step - loss: 1.6973 - accuracy: 0.4094 - val_loss: 2.8514 - val_accuracy: 0.0997\n",
      "Epoch 24/100\n",
      "375/375 [==============================] - 2s 6ms/step - loss: 1.6671 - accuracy: 0.4236 - val_loss: 2.8991 - val_accuracy: 0.0985\n",
      "Epoch 25/100\n",
      "375/375 [==============================] - 2s 6ms/step - loss: 1.6374 - accuracy: 0.4325 - val_loss: 2.9462 - val_accuracy: 0.0962\n",
      "Epoch 26/100\n",
      "375/375 [==============================] - 2s 6ms/step - loss: 1.6076 - accuracy: 0.4445 - val_loss: 2.9901 - val_accuracy: 0.1009\n",
      "Epoch 27/100\n",
      "375/375 [==============================] - 2s 6ms/step - loss: 1.5803 - accuracy: 0.4532 - val_loss: 3.0207 - val_accuracy: 0.0985\n",
      "Epoch 28/100\n",
      "375/375 [==============================] - 2s 6ms/step - loss: 1.5525 - accuracy: 0.4635 - val_loss: 3.0574 - val_accuracy: 0.0993\n",
      "Epoch 29/100\n",
      "375/375 [==============================] - 2s 5ms/step - loss: 1.5265 - accuracy: 0.4762 - val_loss: 3.0959 - val_accuracy: 0.0983\n",
      "Epoch 30/100\n",
      "375/375 [==============================] - 2s 5ms/step - loss: 1.4980 - accuracy: 0.4856 - val_loss: 3.1400 - val_accuracy: 0.0962\n",
      "Epoch 31/100\n",
      "375/375 [==============================] - 2s 6ms/step - loss: 1.4745 - accuracy: 0.4944 - val_loss: 3.2119 - val_accuracy: 0.0997\n",
      "Epoch 32/100\n",
      "375/375 [==============================] - 2s 6ms/step - loss: 1.4496 - accuracy: 0.5042 - val_loss: 3.2447 - val_accuracy: 0.0969\n",
      "Epoch 33/100\n",
      "375/375 [==============================] - 2s 6ms/step - loss: 1.4244 - accuracy: 0.5131 - val_loss: 3.2720 - val_accuracy: 0.1002\n",
      "Epoch 34/100\n",
      "375/375 [==============================] - 2s 5ms/step - loss: 1.4003 - accuracy: 0.5228 - val_loss: 3.3369 - val_accuracy: 0.0956\n",
      "Epoch 35/100\n",
      "375/375 [==============================] - 2s 6ms/step - loss: 1.3763 - accuracy: 0.5287 - val_loss: 3.3895 - val_accuracy: 0.0978\n",
      "Epoch 36/100\n",
      "375/375 [==============================] - 2s 6ms/step - loss: 1.3551 - accuracy: 0.5369 - val_loss: 3.4306 - val_accuracy: 0.0939\n",
      "Epoch 37/100\n",
      "375/375 [==============================] - 2s 6ms/step - loss: 1.3317 - accuracy: 0.5490 - val_loss: 3.4678 - val_accuracy: 0.0971\n",
      "Epoch 38/100\n",
      "375/375 [==============================] - 2s 6ms/step - loss: 1.3092 - accuracy: 0.5543 - val_loss: 3.5309 - val_accuracy: 0.0983\n",
      "Epoch 39/100\n",
      "375/375 [==============================] - 2s 6ms/step - loss: 1.2876 - accuracy: 0.5639 - val_loss: 3.5711 - val_accuracy: 0.0972\n",
      "Epoch 40/100\n",
      "375/375 [==============================] - 2s 6ms/step - loss: 1.2646 - accuracy: 0.5730 - val_loss: 3.6464 - val_accuracy: 0.0988\n",
      "Epoch 41/100\n",
      "375/375 [==============================] - 2s 6ms/step - loss: 1.2438 - accuracy: 0.5804 - val_loss: 3.7148 - val_accuracy: 0.0973\n",
      "Epoch 42/100\n",
      "375/375 [==============================] - 2s 6ms/step - loss: 1.2247 - accuracy: 0.5875 - val_loss: 3.7401 - val_accuracy: 0.0974\n",
      "Epoch 43/100\n",
      "375/375 [==============================] - 2s 6ms/step - loss: 1.2028 - accuracy: 0.5913 - val_loss: 3.7968 - val_accuracy: 0.0992\n",
      "Epoch 44/100\n",
      "375/375 [==============================] - 2s 6ms/step - loss: 1.1857 - accuracy: 0.5985 - val_loss: 3.8406 - val_accuracy: 0.0972\n",
      "Epoch 45/100\n",
      "375/375 [==============================] - 2s 6ms/step - loss: 1.1670 - accuracy: 0.6040 - val_loss: 3.8907 - val_accuracy: 0.0962\n",
      "Epoch 46/100\n",
      "375/375 [==============================] - 2s 6ms/step - loss: 1.1467 - accuracy: 0.6144 - val_loss: 3.9299 - val_accuracy: 0.0978\n",
      "Epoch 47/100\n",
      "375/375 [==============================] - 2s 6ms/step - loss: 1.1292 - accuracy: 0.6180 - val_loss: 4.0035 - val_accuracy: 0.0976\n",
      "Epoch 48/100\n",
      "375/375 [==============================] - 2s 6ms/step - loss: 1.1105 - accuracy: 0.6262 - val_loss: 4.0362 - val_accuracy: 0.1002\n",
      "Epoch 49/100\n",
      "375/375 [==============================] - 2s 6ms/step - loss: 1.0918 - accuracy: 0.6340 - val_loss: 4.1311 - val_accuracy: 0.0976\n",
      "Epoch 50/100\n",
      "375/375 [==============================] - 2s 6ms/step - loss: 1.0769 - accuracy: 0.6376 - val_loss: 4.1517 - val_accuracy: 0.0995\n",
      "Epoch 51/100\n",
      "375/375 [==============================] - 2s 6ms/step - loss: 1.0561 - accuracy: 0.6457 - val_loss: 4.2072 - val_accuracy: 0.1010\n",
      "Epoch 52/100\n",
      "375/375 [==============================] - 2s 6ms/step - loss: 1.0420 - accuracy: 0.6497 - val_loss: 4.2603 - val_accuracy: 0.0980\n",
      "Epoch 53/100\n",
      "375/375 [==============================] - 2s 6ms/step - loss: 1.0246 - accuracy: 0.6572 - val_loss: 4.3491 - val_accuracy: 0.0998\n",
      "Epoch 54/100\n",
      "375/375 [==============================] - 2s 6ms/step - loss: 1.0115 - accuracy: 0.6623 - val_loss: 4.3638 - val_accuracy: 0.0987\n",
      "Epoch 55/100\n",
      "375/375 [==============================] - 2s 6ms/step - loss: 0.9962 - accuracy: 0.6676 - val_loss: 4.4464 - val_accuracy: 0.0991\n",
      "Epoch 56/100\n",
      "375/375 [==============================] - 2s 6ms/step - loss: 0.9795 - accuracy: 0.6704 - val_loss: 4.4918 - val_accuracy: 0.0981\n",
      "Epoch 57/100\n",
      "375/375 [==============================] - 2s 6ms/step - loss: 0.9635 - accuracy: 0.6789 - val_loss: 4.5625 - val_accuracy: 0.0967\n",
      "Epoch 58/100\n",
      "375/375 [==============================] - 2s 6ms/step - loss: 0.9506 - accuracy: 0.6834 - val_loss: 4.5966 - val_accuracy: 0.0978\n",
      "Epoch 59/100\n",
      "375/375 [==============================] - 2s 6ms/step - loss: 0.9342 - accuracy: 0.6874 - val_loss: 4.6743 - val_accuracy: 0.0967\n",
      "Epoch 60/100\n",
      "375/375 [==============================] - 2s 6ms/step - loss: 0.9195 - accuracy: 0.6943 - val_loss: 4.7530 - val_accuracy: 0.0996\n",
      "Epoch 61/100\n",
      "375/375 [==============================] - 2s 6ms/step - loss: 0.9085 - accuracy: 0.6967 - val_loss: 4.8062 - val_accuracy: 0.0982\n",
      "Epoch 62/100\n",
      "375/375 [==============================] - 2s 6ms/step - loss: 0.8927 - accuracy: 0.7040 - val_loss: 4.8686 - val_accuracy: 0.0988\n",
      "Epoch 63/100\n",
      "375/375 [==============================] - 2s 6ms/step - loss: 0.8793 - accuracy: 0.7080 - val_loss: 4.9074 - val_accuracy: 0.0952\n",
      "Epoch 64/100\n",
      "375/375 [==============================] - 2s 6ms/step - loss: 0.8665 - accuracy: 0.7126 - val_loss: 5.0102 - val_accuracy: 0.0960\n",
      "Epoch 65/100\n",
      "375/375 [==============================] - 2s 6ms/step - loss: 0.8534 - accuracy: 0.7182 - val_loss: 5.0375 - val_accuracy: 0.0972\n",
      "Epoch 66/100\n",
      "375/375 [==============================] - 2s 6ms/step - loss: 0.8405 - accuracy: 0.7193 - val_loss: 5.1001 - val_accuracy: 0.0984\n",
      "Epoch 67/100\n",
      "375/375 [==============================] - 2s 5ms/step - loss: 0.8272 - accuracy: 0.7263 - val_loss: 5.1585 - val_accuracy: 0.0983\n",
      "Epoch 68/100\n",
      "375/375 [==============================] - 2s 6ms/step - loss: 0.8158 - accuracy: 0.7290 - val_loss: 5.2330 - val_accuracy: 0.0975\n",
      "Epoch 69/100\n",
      "375/375 [==============================] - 2s 6ms/step - loss: 0.8045 - accuracy: 0.7334 - val_loss: 5.3164 - val_accuracy: 0.1002\n",
      "Epoch 70/100\n",
      "375/375 [==============================] - 2s 6ms/step - loss: 0.7945 - accuracy: 0.7361 - val_loss: 5.3177 - val_accuracy: 0.0961\n",
      "Epoch 71/100\n",
      "375/375 [==============================] - 2s 6ms/step - loss: 0.7795 - accuracy: 0.7434 - val_loss: 5.4127 - val_accuracy: 0.1026\n",
      "Epoch 72/100\n",
      "375/375 [==============================] - 2s 6ms/step - loss: 0.7692 - accuracy: 0.7466 - val_loss: 5.4507 - val_accuracy: 0.0995\n",
      "Epoch 73/100\n",
      "375/375 [==============================] - 2s 6ms/step - loss: 0.7571 - accuracy: 0.7505 - val_loss: 5.5567 - val_accuracy: 0.0943\n",
      "Epoch 74/100\n",
      "375/375 [==============================] - 2s 6ms/step - loss: 0.7469 - accuracy: 0.7525 - val_loss: 5.6099 - val_accuracy: 0.0955\n",
      "Epoch 75/100\n",
      "375/375 [==============================] - 2s 6ms/step - loss: 0.7373 - accuracy: 0.7582 - val_loss: 5.6478 - val_accuracy: 0.0986\n",
      "Epoch 76/100\n",
      "375/375 [==============================] - 2s 6ms/step - loss: 0.7240 - accuracy: 0.7631 - val_loss: 5.7394 - val_accuracy: 0.0967\n",
      "Epoch 77/100\n",
      "375/375 [==============================] - 2s 6ms/step - loss: 0.7151 - accuracy: 0.7651 - val_loss: 5.7910 - val_accuracy: 0.0978\n",
      "Epoch 78/100\n",
      "375/375 [==============================] - 2s 6ms/step - loss: 0.7050 - accuracy: 0.7689 - val_loss: 5.8744 - val_accuracy: 0.0984\n",
      "Epoch 79/100\n",
      "375/375 [==============================] - 2s 6ms/step - loss: 0.6946 - accuracy: 0.7710 - val_loss: 5.9288 - val_accuracy: 0.0965\n",
      "Epoch 80/100\n",
      "375/375 [==============================] - 2s 6ms/step - loss: 0.6833 - accuracy: 0.7754 - val_loss: 5.9946 - val_accuracy: 0.0983\n",
      "Epoch 81/100\n",
      "375/375 [==============================] - 2s 6ms/step - loss: 0.6755 - accuracy: 0.7775 - val_loss: 6.0810 - val_accuracy: 0.1002\n",
      "Epoch 82/100\n",
      "375/375 [==============================] - 2s 6ms/step - loss: 0.6651 - accuracy: 0.7811 - val_loss: 6.0828 - val_accuracy: 0.0991\n",
      "Epoch 83/100\n",
      "375/375 [==============================] - 2s 5ms/step - loss: 0.6551 - accuracy: 0.7831 - val_loss: 6.1783 - val_accuracy: 0.0992\n",
      "Epoch 84/100\n",
      "375/375 [==============================] - 2s 6ms/step - loss: 0.6458 - accuracy: 0.7894 - val_loss: 6.2275 - val_accuracy: 0.1014\n",
      "Epoch 85/100\n",
      "375/375 [==============================] - 2s 6ms/step - loss: 0.6343 - accuracy: 0.7954 - val_loss: 6.3426 - val_accuracy: 0.0976\n",
      "Epoch 86/100\n",
      "375/375 [==============================] - 2s 6ms/step - loss: 0.6262 - accuracy: 0.7952 - val_loss: 6.3868 - val_accuracy: 0.1001\n",
      "Epoch 87/100\n",
      "375/375 [==============================] - 2s 6ms/step - loss: 0.6189 - accuracy: 0.7974 - val_loss: 6.4642 - val_accuracy: 0.0995\n",
      "Epoch 88/100\n",
      "375/375 [==============================] - 2s 6ms/step - loss: 0.6118 - accuracy: 0.8013 - val_loss: 6.4896 - val_accuracy: 0.0981\n",
      "Epoch 89/100\n",
      "375/375 [==============================] - 2s 6ms/step - loss: 0.6019 - accuracy: 0.8048 - val_loss: 6.6115 - val_accuracy: 0.0983\n",
      "Epoch 90/100\n",
      "375/375 [==============================] - 2s 6ms/step - loss: 0.5938 - accuracy: 0.8066 - val_loss: 6.6509 - val_accuracy: 0.0944\n",
      "Epoch 91/100\n",
      "375/375 [==============================] - 2s 6ms/step - loss: 0.5863 - accuracy: 0.8085 - val_loss: 6.7153 - val_accuracy: 0.0995\n",
      "Epoch 92/100\n",
      "375/375 [==============================] - 2s 5ms/step - loss: 0.5768 - accuracy: 0.8095 - val_loss: 6.8026 - val_accuracy: 0.0962\n",
      "Epoch 93/100\n",
      "375/375 [==============================] - 2s 5ms/step - loss: 0.5666 - accuracy: 0.8176 - val_loss: 6.8357 - val_accuracy: 0.0961\n",
      "Epoch 94/100\n",
      "375/375 [==============================] - 2s 5ms/step - loss: 0.5605 - accuracy: 0.8185 - val_loss: 6.9554 - val_accuracy: 0.0985\n",
      "Epoch 95/100\n",
      "375/375 [==============================] - 2s 6ms/step - loss: 0.5532 - accuracy: 0.8219 - val_loss: 6.9769 - val_accuracy: 0.0986\n",
      "Epoch 96/100\n",
      "375/375 [==============================] - 2s 6ms/step - loss: 0.5454 - accuracy: 0.8240 - val_loss: 7.0853 - val_accuracy: 0.0957\n",
      "Epoch 97/100\n",
      "375/375 [==============================] - 2s 6ms/step - loss: 0.5377 - accuracy: 0.8244 - val_loss: 7.1179 - val_accuracy: 0.0980\n",
      "Epoch 98/100\n",
      "375/375 [==============================] - 2s 6ms/step - loss: 0.5290 - accuracy: 0.8284 - val_loss: 7.1743 - val_accuracy: 0.1010\n",
      "Epoch 99/100\n",
      "375/375 [==============================] - 2s 6ms/step - loss: 0.5230 - accuracy: 0.8314 - val_loss: 7.3329 - val_accuracy: 0.0987\n",
      "Epoch 100/100\n",
      "375/375 [==============================] - 2s 6ms/step - loss: 0.5150 - accuracy: 0.8324 - val_loss: 7.3232 - val_accuracy: 0.0983\n"
     ]
    },
    {
     "data": {
      "text/plain": [
       "<keras.callbacks.History at 0x1739c5fa0>"
      ]
     },
     "execution_count": 9,
     "metadata": {},
     "output_type": "execute_result"
    }
   ],
   "source": [
    "# Shuffling labels\n",
    "(train_images, train_labels), _ = mnist.load_data()\n",
    "train_images = train_images.reshape((60000, 28 * 28))\n",
    "train_images = train_images.astype(\"float32\") / 255 \n",
    "\n",
    "random_train_labels = train_labels[:]\n",
    "np.random.shuffle(random_train_labels)\n",
    "\n",
    "model = keras.Sequential([\n",
    "    layers.Dense(512, activation=\"relu\"),\n",
    "    layers.Dense(10, activation=\"softmax\")\n",
    "])\n",
    "\n",
    "model.compile(\n",
    "    optimizer=\"rmsprop\",\n",
    "    loss=\"sparse_categorical_crossentropy\",\n",
    "    metrics=[\"accuracy\"]\n",
    ")\n",
    "\n",
    "model.fit(\n",
    "    train_images,\n",
    "    random_train_labels,\n",
    "    epochs=100,\n",
    "    batch_size=128,\n",
    "    validation_split=0.2\n",
    ")"
   ]
  },
  {
   "cell_type": "code",
   "execution_count": 12,
   "metadata": {},
   "outputs": [
    {
     "name": "stdout",
     "output_type": "stream",
     "text": [
      "Epoch 1/20\n"
     ]
    },
    {
     "name": "stderr",
     "output_type": "stream",
     "text": [
      "2022-05-02 08:07:38.541839: I tensorflow/core/grappler/optimizers/custom_graph_optimizer_registry.cc:112] Plugin optimizer for device_type GPU is enabled.\n"
     ]
    },
    {
     "name": "stdout",
     "output_type": "stream",
     "text": [
      "30/30 [==============================] - 2s 32ms/step - loss: 0.5228 - accuracy: 0.7823 - val_loss: 0.3852 - val_accuracy: 0.8736\n",
      "Epoch 2/20\n",
      " 1/30 [>.............................] - ETA: 0s - loss: 0.3596 - accuracy: 0.8945"
     ]
    },
    {
     "name": "stderr",
     "output_type": "stream",
     "text": [
      "2022-05-02 08:07:40.237904: I tensorflow/core/grappler/optimizers/custom_graph_optimizer_registry.cc:112] Plugin optimizer for device_type GPU is enabled.\n"
     ]
    },
    {
     "name": "stdout",
     "output_type": "stream",
     "text": [
      "30/30 [==============================] - 0s 12ms/step - loss: 0.3103 - accuracy: 0.9025 - val_loss: 0.3206 - val_accuracy: 0.8768\n",
      "Epoch 3/20\n",
      "30/30 [==============================] - 0s 12ms/step - loss: 0.2275 - accuracy: 0.9268 - val_loss: 0.2767 - val_accuracy: 0.8938\n",
      "Epoch 4/20\n",
      "30/30 [==============================] - 0s 14ms/step - loss: 0.1769 - accuracy: 0.9427 - val_loss: 0.2721 - val_accuracy: 0.8951\n",
      "Epoch 5/20\n",
      "30/30 [==============================] - 0s 12ms/step - loss: 0.1473 - accuracy: 0.9529 - val_loss: 0.2778 - val_accuracy: 0.8911\n",
      "Epoch 6/20\n",
      "30/30 [==============================] - 0s 12ms/step - loss: 0.1194 - accuracy: 0.9635 - val_loss: 0.2932 - val_accuracy: 0.8870\n",
      "Epoch 7/20\n",
      "30/30 [==============================] - 0s 12ms/step - loss: 0.0996 - accuracy: 0.9702 - val_loss: 0.3089 - val_accuracy: 0.8849\n",
      "Epoch 8/20\n",
      "30/30 [==============================] - 0s 12ms/step - loss: 0.0841 - accuracy: 0.9750 - val_loss: 0.3267 - val_accuracy: 0.8821\n",
      "Epoch 9/20\n",
      "30/30 [==============================] - 0s 12ms/step - loss: 0.0693 - accuracy: 0.9809 - val_loss: 0.3501 - val_accuracy: 0.8817\n",
      "Epoch 10/20\n",
      "30/30 [==============================] - 0s 12ms/step - loss: 0.0592 - accuracy: 0.9846 - val_loss: 0.3757 - val_accuracy: 0.8799\n",
      "Epoch 11/20\n",
      "30/30 [==============================] - 0s 12ms/step - loss: 0.0467 - accuracy: 0.9891 - val_loss: 0.4134 - val_accuracy: 0.8750\n",
      "Epoch 12/20\n",
      "30/30 [==============================] - 0s 12ms/step - loss: 0.0394 - accuracy: 0.9897 - val_loss: 0.4415 - val_accuracy: 0.8738\n",
      "Epoch 13/20\n",
      "30/30 [==============================] - 0s 12ms/step - loss: 0.0315 - accuracy: 0.9937 - val_loss: 0.4680 - val_accuracy: 0.8724\n",
      "Epoch 14/20\n",
      "30/30 [==============================] - 0s 12ms/step - loss: 0.0250 - accuracy: 0.9951 - val_loss: 0.5191 - val_accuracy: 0.8710\n",
      "Epoch 15/20\n",
      "30/30 [==============================] - 0s 12ms/step - loss: 0.0226 - accuracy: 0.9948 - val_loss: 0.5364 - val_accuracy: 0.8697\n",
      "Epoch 16/20\n",
      "30/30 [==============================] - 0s 12ms/step - loss: 0.0165 - accuracy: 0.9968 - val_loss: 0.5688 - val_accuracy: 0.8678\n",
      "Epoch 17/20\n",
      "30/30 [==============================] - 0s 12ms/step - loss: 0.0103 - accuracy: 0.9990 - val_loss: 0.6632 - val_accuracy: 0.8616\n",
      "Epoch 18/20\n",
      "30/30 [==============================] - 0s 12ms/step - loss: 0.0116 - accuracy: 0.9984 - val_loss: 0.6504 - val_accuracy: 0.8685\n",
      "Epoch 19/20\n",
      "30/30 [==============================] - 0s 12ms/step - loss: 0.0102 - accuracy: 0.9981 - val_loss: 0.6770 - val_accuracy: 0.8669\n",
      "Epoch 20/20\n",
      "30/30 [==============================] - 0s 12ms/step - loss: 0.0046 - accuracy: 0.9997 - val_loss: 0.7022 - val_accuracy: 0.8649\n"
     ]
    }
   ],
   "source": [
    "from tensorflow.keras.datasets import imdb\n",
    "(train_data, train_labels), _ = imdb.load_data(num_words = 10000)\n",
    "\n",
    "def vectorize_sequences(sequences, dimensions= 10000):\n",
    "    results = np.zeros((len(sequences), dimensions))\n",
    "    for i, sequence in enumerate(sequences):\n",
    "        results[i, sequence] = 1.\n",
    "    return results\n",
    "train_data = vectorize_sequences(train_data)\n",
    "\n",
    "model = keras.Sequential([\n",
    "    layers.Dense(16, activation=\"relu\"),\n",
    "    layers.Dense(16, activation=\"relu\"),\n",
    "    layers.Dense(1, activation=\"sigmoid\")\n",
    "])\n",
    "\n",
    "model.compile(\n",
    "    optimizer=\"rmsprop\",\n",
    "    loss=\"binary_crossentropy\",\n",
    "    metrics=[\"accuracy\"]\n",
    ")\n",
    "\n",
    "history_original = model.fit(\n",
    "    train_data, train_labels,\n",
    "    epochs = 20, batch_size = 512,\n",
    "    validation_split = 0.4\n",
    ")"
   ]
  },
  {
   "cell_type": "code",
   "execution_count": 13,
   "metadata": {},
   "outputs": [
    {
     "name": "stdout",
     "output_type": "stream",
     "text": [
      "Epoch 1/20\n"
     ]
    },
    {
     "name": "stderr",
     "output_type": "stream",
     "text": [
      "2022-05-02 08:09:13.399838: I tensorflow/core/grappler/optimizers/custom_graph_optimizer_registry.cc:112] Plugin optimizer for device_type GPU is enabled.\n"
     ]
    },
    {
     "name": "stdout",
     "output_type": "stream",
     "text": [
      "30/30 [==============================] - 1s 26ms/step - loss: 0.6159 - accuracy: 0.6937 - val_loss: 0.5597 - val_accuracy: 0.8201\n",
      "Epoch 2/20\n",
      " 1/30 [>.............................] - ETA: 0s - loss: 0.5552 - accuracy: 0.8379"
     ]
    },
    {
     "name": "stderr",
     "output_type": "stream",
     "text": [
      "2022-05-02 08:09:14.384466: I tensorflow/core/grappler/optimizers/custom_graph_optimizer_registry.cc:112] Plugin optimizer for device_type GPU is enabled.\n"
     ]
    },
    {
     "name": "stdout",
     "output_type": "stream",
     "text": [
      "30/30 [==============================] - 0s 13ms/step - loss: 0.5234 - accuracy: 0.8112 - val_loss: 0.5133 - val_accuracy: 0.8247\n",
      "Epoch 3/20\n",
      "30/30 [==============================] - 0s 12ms/step - loss: 0.4763 - accuracy: 0.8627 - val_loss: 0.4923 - val_accuracy: 0.8167\n",
      "Epoch 4/20\n",
      "30/30 [==============================] - 0s 12ms/step - loss: 0.4442 - accuracy: 0.8903 - val_loss: 0.4713 - val_accuracy: 0.8691\n",
      "Epoch 5/20\n",
      "30/30 [==============================] - 0s 12ms/step - loss: 0.4184 - accuracy: 0.9148 - val_loss: 0.4692 - val_accuracy: 0.8466\n",
      "Epoch 6/20\n",
      "30/30 [==============================] - 0s 13ms/step - loss: 0.3979 - accuracy: 0.9287 - val_loss: 0.4522 - val_accuracy: 0.8795\n",
      "Epoch 7/20\n",
      "30/30 [==============================] - 0s 13ms/step - loss: 0.3801 - accuracy: 0.9410 - val_loss: 0.4727 - val_accuracy: 0.8399\n",
      "Epoch 8/20\n",
      "30/30 [==============================] - 0s 12ms/step - loss: 0.3637 - accuracy: 0.9504 - val_loss: 0.4561 - val_accuracy: 0.8614\n",
      "Epoch 9/20\n",
      "30/30 [==============================] - 0s 12ms/step - loss: 0.3494 - accuracy: 0.9583 - val_loss: 0.4545 - val_accuracy: 0.8664\n",
      "Epoch 10/20\n",
      "30/30 [==============================] - 0s 13ms/step - loss: 0.3359 - accuracy: 0.9648 - val_loss: 0.4711 - val_accuracy: 0.8506\n",
      "Epoch 11/20\n",
      "30/30 [==============================] - 0s 12ms/step - loss: 0.3240 - accuracy: 0.9687 - val_loss: 0.4811 - val_accuracy: 0.8443\n",
      "Epoch 12/20\n",
      "30/30 [==============================] - 0s 12ms/step - loss: 0.3128 - accuracy: 0.9736 - val_loss: 0.4502 - val_accuracy: 0.8709\n",
      "Epoch 13/20\n",
      "30/30 [==============================] - 0s 12ms/step - loss: 0.3029 - accuracy: 0.9762 - val_loss: 0.4604 - val_accuracy: 0.8662\n",
      "Epoch 14/20\n",
      "30/30 [==============================] - 0s 12ms/step - loss: 0.2923 - accuracy: 0.9793 - val_loss: 0.4600 - val_accuracy: 0.8678\n",
      "Epoch 15/20\n",
      "30/30 [==============================] - 0s 12ms/step - loss: 0.2836 - accuracy: 0.9807 - val_loss: 0.4918 - val_accuracy: 0.8518\n",
      "Epoch 16/20\n",
      "30/30 [==============================] - 0s 12ms/step - loss: 0.2747 - accuracy: 0.9836 - val_loss: 0.4844 - val_accuracy: 0.8575\n",
      "Epoch 17/20\n",
      "30/30 [==============================] - 0s 12ms/step - loss: 0.2664 - accuracy: 0.9841 - val_loss: 0.4569 - val_accuracy: 0.8714\n",
      "Epoch 18/20\n",
      "30/30 [==============================] - 0s 14ms/step - loss: 0.2591 - accuracy: 0.9855 - val_loss: 0.5040 - val_accuracy: 0.8546\n",
      "Epoch 19/20\n",
      "30/30 [==============================] - 0s 13ms/step - loss: 0.2514 - accuracy: 0.9862 - val_loss: 0.5322 - val_accuracy: 0.8486\n",
      "Epoch 20/20\n",
      "30/30 [==============================] - 0s 12ms/step - loss: 0.2448 - accuracy: 0.9868 - val_loss: 0.5312 - val_accuracy: 0.8497\n"
     ]
    }
   ],
   "source": [
    "small_model = keras.Sequential([\n",
    "    layers.Dense(4, activation=\"relu\"),\n",
    "    layers.Dense(4, activation=\"relu\"),\n",
    "    layers.Dense(1, activation=\"sigmoid\")\n",
    "])\n",
    "\n",
    "small_model.compile(\n",
    "    optimizer=\"rmsprop\",\n",
    "    loss=\"binary_crossentropy\",\n",
    "    metrics=[\"accuracy\"]\n",
    ")\n",
    "\n",
    "history_smaller_model = small_model.fit(\n",
    "    train_data, train_labels,\n",
    "    epochs = 20, batch_size = 512,\n",
    "    validation_split = 0.4\n",
    ")"
   ]
  },
  {
   "cell_type": "code",
   "execution_count": 23,
   "metadata": {},
   "outputs": [
    {
     "data": {
      "text/plain": [
       "<matplotlib.legend.Legend at 0x3cf784d30>"
      ]
     },
     "execution_count": 23,
     "metadata": {},
     "output_type": "execute_result"
    },
    {
     "data": {
      "image/png": "[encoded data removed]",
      "text/plain": [
       "<Figure size 432x288 with 1 Axes>"
      ]
     },
     "metadata": {
      "needs_background": "light"
     },
     "output_type": "display_data"
    }
   ],
   "source": [
    "val_loss_original = history_original.history[\"val_loss\"]\n",
    "val_loss_smaller_model = history_smaller_model.history[\"val_loss\"]\n",
    "epochs = range(0, 20)\n",
    "plt.plot(epochs, val_loss_original, \"b--\",\n",
    "         label=\"Validation loss of original moedel\")\n",
    "plt.plot(epochs, val_loss_smaller_model, \"b\",\n",
    "         label=\"Validation loss of smaller moedel\")\n",
    "# plt.title(\"Effect of noise channels on validation accuracy\")\n",
    "plt.xlabel(\"Epochs\")\n",
    "plt.ylabel(\"Loss\")\n",
    "plt.legend()"
   ]
  },
  {
   "cell_type": "code",
   "execution_count": 25,
   "metadata": {},
   "outputs": [
    {
     "name": "stdout",
     "output_type": "stream",
     "text": [
      "Epoch 1/20\n"
     ]
    },
    {
     "name": "stderr",
     "output_type": "stream",
     "text": [
      "2022-05-02 08:15:51.367318: I tensorflow/core/grappler/optimizers/custom_graph_optimizer_registry.cc:112] Plugin optimizer for device_type GPU is enabled.\n"
     ]
    },
    {
     "name": "stdout",
     "output_type": "stream",
     "text": [
      "30/30 [==============================] - 1s 25ms/step - loss: 0.5698 - accuracy: 0.7539 - val_loss: 0.4455 - val_accuracy: 0.7860\n"
     ]
    },
    {
     "name": "stderr",
     "output_type": "stream",
     "text": [
      "2022-05-02 08:15:52.367004: I tensorflow/core/grappler/optimizers/custom_graph_optimizer_registry.cc:112] Plugin optimizer for device_type GPU is enabled.\n"
     ]
    },
    {
     "name": "stdout",
     "output_type": "stream",
     "text": [
      "Epoch 2/20\n",
      "30/30 [==============================] - 0s 14ms/step - loss: 0.2679 - accuracy: 0.8938 - val_loss: 0.2732 - val_accuracy: 0.8922\n",
      "Epoch 3/20\n",
      "30/30 [==============================] - 0s 14ms/step - loss: 0.1760 - accuracy: 0.9351 - val_loss: 0.2639 - val_accuracy: 0.8928\n",
      "Epoch 4/20\n",
      "30/30 [==============================] - 0s 14ms/step - loss: 0.0647 - accuracy: 0.9796 - val_loss: 0.9369 - val_accuracy: 0.7503\n",
      "Epoch 5/20\n",
      "30/30 [==============================] - 0s 14ms/step - loss: 0.0280 - accuracy: 0.9911 - val_loss: 0.4787 - val_accuracy: 0.8787\n",
      "Epoch 6/20\n",
      "30/30 [==============================] - 0s 16ms/step - loss: 0.0030 - accuracy: 0.9996 - val_loss: 0.7178 - val_accuracy: 0.8653\n",
      "Epoch 7/20\n",
      "30/30 [==============================] - 0s 15ms/step - loss: 4.0444e-04 - accuracy: 0.9999 - val_loss: 0.7301 - val_accuracy: 0.8865\n",
      "Epoch 8/20\n",
      "30/30 [==============================] - 0s 14ms/step - loss: 2.7341e-05 - accuracy: 1.0000 - val_loss: 0.8449 - val_accuracy: 0.8867\n",
      "Epoch 9/20\n",
      "30/30 [==============================] - 0s 14ms/step - loss: 5.2260e-06 - accuracy: 1.0000 - val_loss: 0.9486 - val_accuracy: 0.8863\n",
      "Epoch 10/20\n",
      "30/30 [==============================] - 0s 14ms/step - loss: 1.2580e-06 - accuracy: 1.0000 - val_loss: 1.0425 - val_accuracy: 0.8862\n",
      "Epoch 11/20\n",
      "30/30 [==============================] - 0s 14ms/step - loss: 3.6821e-07 - accuracy: 1.0000 - val_loss: 1.1255 - val_accuracy: 0.8868\n",
      "Epoch 12/20\n",
      "30/30 [==============================] - 0s 14ms/step - loss: 1.2466e-07 - accuracy: 1.0000 - val_loss: 1.1986 - val_accuracy: 0.8865\n",
      "Epoch 13/20\n",
      "30/30 [==============================] - 0s 13ms/step - loss: 5.4844e-08 - accuracy: 1.0000 - val_loss: 1.2420 - val_accuracy: 0.8861\n",
      "Epoch 14/20\n",
      "30/30 [==============================] - 0s 13ms/step - loss: 3.1173e-08 - accuracy: 1.0000 - val_loss: 1.2751 - val_accuracy: 0.8864\n",
      "Epoch 15/20\n",
      "30/30 [==============================] - 0s 13ms/step - loss: 2.1175e-08 - accuracy: 1.0000 - val_loss: 1.2979 - val_accuracy: 0.8863\n",
      "Epoch 16/20\n",
      "30/30 [==============================] - 0s 14ms/step - loss: 1.5589e-08 - accuracy: 1.0000 - val_loss: 1.3150 - val_accuracy: 0.8863\n",
      "Epoch 17/20\n",
      "30/30 [==============================] - 0s 13ms/step - loss: 1.1888e-08 - accuracy: 1.0000 - val_loss: 1.3290 - val_accuracy: 0.8870\n",
      "Epoch 18/20\n",
      "30/30 [==============================] - 0s 13ms/step - loss: 9.4693e-09 - accuracy: 1.0000 - val_loss: 1.3407 - val_accuracy: 0.8865\n",
      "Epoch 19/20\n",
      "30/30 [==============================] - 0s 13ms/step - loss: 7.7562e-09 - accuracy: 1.0000 - val_loss: 1.3506 - val_accuracy: 0.8866\n",
      "Epoch 20/20\n",
      "30/30 [==============================] - 0s 13ms/step - loss: 6.3790e-09 - accuracy: 1.0000 - val_loss: 1.3588 - val_accuracy: 0.8869\n"
     ]
    }
   ],
   "source": [
    "l_model = keras.Sequential([\n",
    "    layers.Dense(512, activation=\"relu\"),\n",
    "    layers.Dense(512, activation=\"relu\"),\n",
    "    layers.Dense(1, activation=\"sigmoid\")\n",
    "])\n",
    "\n",
    "l_model.compile(\n",
    "    optimizer=\"rmsprop\",\n",
    "    loss=\"binary_crossentropy\",\n",
    "    metrics=[\"accuracy\"]\n",
    ")\n",
    "\n",
    "history_l_model = l_model.fit(\n",
    "    train_data, train_labels,\n",
    "    epochs = 20, batch_size = 512,\n",
    "    validation_split = 0.4\n",
    ")"
   ]
  },
  {
   "cell_type": "code",
   "execution_count": 29,
   "metadata": {},
   "outputs": [
    {
     "data": {
      "text/plain": [
       "<matplotlib.legend.Legend at 0x386e189d0>"
      ]
     },
     "execution_count": 29,
     "metadata": {},
     "output_type": "execute_result"
    },
    {
     "data": {
      "image/png": "[encoded data removed]",
      "text/plain": [
       "<Figure size 432x288 with 1 Axes>"
      ]
     },
     "metadata": {
      "needs_background": "light"
     },
     "output_type": "display_data"
    }
   ],
   "source": [
    "val_loss_original = history_original.history[\"val_loss\"]\n",
    "train_loss_original = history_original.history[\"loss\"]\n",
    "val_loss_l_model = history_l_model.history[\"val_loss\"]\n",
    "train_loss_l_model = history_original.history[\"loss\"]\n",
    "\n",
    "epochs = range(0, 20)\n",
    "plt.plot(epochs, val_loss_original, \"b--\",\n",
    "         label=\"Validation loss of original model\")\n",
    "plt.plot(epochs, train_loss_original, \"g--\",\n",
    "         label=\"Training loss of original model\")\n",
    "plt.plot(epochs, val_loss_l_model, \"b\",\n",
    "         label=\"Validation loss of larger model\")\n",
    "plt.plot(epochs, train_loss_l_model, \"g\",\n",
    "         label=\"Training loss of larger model\")\n",
    "\n",
    "# plt.title(\"Effect of noise channels on validation accuracy\")\n",
    "plt.xlabel(\"Epochs\")\n",
    "plt.ylabel(\"Loss\")\n",
    "plt.legend()"
   ]
  },
  {
   "cell_type": "code",
   "execution_count": 30,
   "metadata": {},
   "outputs": [
    {
     "name": "stdout",
     "output_type": "stream",
     "text": [
      "Epoch 1/20\n"
     ]
    },
    {
     "name": "stderr",
     "output_type": "stream",
     "text": [
      "2022-05-02 08:22:00.969921: I tensorflow/core/grappler/optimizers/custom_graph_optimizer_registry.cc:112] Plugin optimizer for device_type GPU is enabled.\n"
     ]
    },
    {
     "name": "stdout",
     "output_type": "stream",
     "text": [
      "29/30 [============================>.] - ETA: 0s - loss: 0.5926 - accuracy: 0.7758"
     ]
    },
    {
     "name": "stderr",
     "output_type": "stream",
     "text": [
      "2022-05-02 08:22:01.889423: I tensorflow/core/grappler/optimizers/custom_graph_optimizer_registry.cc:112] Plugin optimizer for device_type GPU is enabled.\n"
     ]
    },
    {
     "name": "stdout",
     "output_type": "stream",
     "text": [
      "30/30 [==============================] - 1s 24ms/step - loss: 0.5911 - accuracy: 0.7771 - val_loss: 0.4774 - val_accuracy: 0.8385\n",
      "Epoch 2/20\n",
      "30/30 [==============================] - 0s 13ms/step - loss: 0.3940 - accuracy: 0.8949 - val_loss: 0.3861 - val_accuracy: 0.8854\n",
      "Epoch 3/20\n",
      "30/30 [==============================] - 0s 13ms/step - loss: 0.3259 - accuracy: 0.9182 - val_loss: 0.4171 - val_accuracy: 0.8557\n",
      "Epoch 4/20\n",
      "30/30 [==============================] - 0s 14ms/step - loss: 0.2997 - accuracy: 0.9247 - val_loss: 0.3568 - val_accuracy: 0.8897\n",
      "Epoch 5/20\n",
      "30/30 [==============================] - 0s 12ms/step - loss: 0.2781 - accuracy: 0.9344 - val_loss: 0.3825 - val_accuracy: 0.8757\n",
      "Epoch 6/20\n",
      "30/30 [==============================] - 0s 14ms/step - loss: 0.2656 - accuracy: 0.9366 - val_loss: 0.3618 - val_accuracy: 0.8867\n",
      "Epoch 7/20\n",
      "30/30 [==============================] - 0s 13ms/step - loss: 0.2505 - accuracy: 0.9438 - val_loss: 0.3845 - val_accuracy: 0.8753\n",
      "Epoch 8/20\n",
      "30/30 [==============================] - 0s 13ms/step - loss: 0.2466 - accuracy: 0.9451 - val_loss: 0.3785 - val_accuracy: 0.8805\n",
      "Epoch 9/20\n",
      "30/30 [==============================] - 0s 13ms/step - loss: 0.2408 - accuracy: 0.9477 - val_loss: 0.3732 - val_accuracy: 0.8815\n",
      "Epoch 10/20\n",
      "30/30 [==============================] - 0s 12ms/step - loss: 0.2342 - accuracy: 0.9488 - val_loss: 0.3820 - val_accuracy: 0.8800\n",
      "Epoch 11/20\n",
      "30/30 [==============================] - 0s 14ms/step - loss: 0.2384 - accuracy: 0.9439 - val_loss: 0.4010 - val_accuracy: 0.8744\n",
      "Epoch 12/20\n",
      "30/30 [==============================] - 0s 13ms/step - loss: 0.2238 - accuracy: 0.9535 - val_loss: 0.4406 - val_accuracy: 0.8618\n",
      "Epoch 13/20\n",
      "30/30 [==============================] - 0s 12ms/step - loss: 0.2228 - accuracy: 0.9527 - val_loss: 0.3979 - val_accuracy: 0.8758\n",
      "Epoch 14/20\n",
      "30/30 [==============================] - 0s 12ms/step - loss: 0.2164 - accuracy: 0.9564 - val_loss: 0.3928 - val_accuracy: 0.8799\n",
      "Epoch 15/20\n",
      "30/30 [==============================] - 0s 13ms/step - loss: 0.2171 - accuracy: 0.9551 - val_loss: 0.4260 - val_accuracy: 0.8725\n",
      "Epoch 16/20\n",
      "30/30 [==============================] - 0s 13ms/step - loss: 0.2096 - accuracy: 0.9588 - val_loss: 0.4452 - val_accuracy: 0.8640\n",
      "Epoch 17/20\n",
      "30/30 [==============================] - 0s 12ms/step - loss: 0.2105 - accuracy: 0.9565 - val_loss: 0.4327 - val_accuracy: 0.8694\n",
      "Epoch 18/20\n",
      "30/30 [==============================] - 0s 12ms/step - loss: 0.2054 - accuracy: 0.9595 - val_loss: 0.4151 - val_accuracy: 0.8729\n",
      "Epoch 19/20\n",
      "30/30 [==============================] - 0s 13ms/step - loss: 0.2084 - accuracy: 0.9575 - val_loss: 0.4729 - val_accuracy: 0.8549\n",
      "Epoch 20/20\n",
      "30/30 [==============================] - 0s 12ms/step - loss: 0.2020 - accuracy: 0.9606 - val_loss: 0.4406 - val_accuracy: 0.8698\n"
     ]
    }
   ],
   "source": [
    "model_l2 = keras.Sequential([\n",
    "    layers.Dense(\n",
    "        16, \n",
    "        kernel_regularizer=keras.regularizers.l2(0.002),\n",
    "        activation=\"relu\"),\n",
    "    layers.Dense(16, \n",
    "        kernel_regularizer=keras.regularizers.l2(0.002),\n",
    "        activation=\"relu\"),\n",
    "    layers.Dense(1, activation=\"sigmoid\")\n",
    "])\n",
    "\n",
    "model_l2.compile(\n",
    "    optimizer=\"rmsprop\",\n",
    "    loss=\"binary_crossentropy\",\n",
    "    metrics=[\"accuracy\"]\n",
    ")\n",
    "\n",
    "history_l2 = model_l2.fit(\n",
    "    train_data, train_labels,\n",
    "    epochs = 20, batch_size = 512,\n",
    "    validation_split = 0.4\n",
    ")"
   ]
  },
  {
   "cell_type": "code",
   "execution_count": 31,
   "metadata": {},
   "outputs": [
    {
     "data": {
      "text/plain": [
       "<matplotlib.legend.Legend at 0x3d6653e50>"
      ]
     },
     "execution_count": 31,
     "metadata": {},
     "output_type": "execute_result"
    },
    {
     "data": {
      "image/png": "[encoded data removed]",
      "text/plain": [
       "<Figure size 432x288 with 1 Axes>"
      ]
     },
     "metadata": {
      "needs_background": "light"
     },
     "output_type": "display_data"
    }
   ],
   "source": [
    "val_loss_original = history_original.history[\"val_loss\"]\n",
    "val_loss_l2 = history_l2.history[\"val_loss\"]\n",
    "epochs = range(0, 20)\n",
    "plt.plot(epochs, val_loss_original, \"b--\",\n",
    "         label=\"Validation loss of original moedel\")\n",
    "plt.plot(epochs, val_loss_l2, \"b\",\n",
    "         label=\"Validation loss of L2 moedel\")\n",
    "# plt.title(\"Effect of noise channels on validation accuracy\")\n",
    "plt.xlabel(\"Epochs\")\n",
    "plt.ylabel(\"Loss\")\n",
    "plt.legend()"
   ]
  },
  {
   "cell_type": "code",
   "execution_count": 32,
   "metadata": {},
   "outputs": [
    {
     "name": "stdout",
     "output_type": "stream",
     "text": [
      "Epoch 1/20\n"
     ]
    },
    {
     "name": "stderr",
     "output_type": "stream",
     "text": [
      "2022-05-02 08:24:05.137550: I tensorflow/core/grappler/optimizers/custom_graph_optimizer_registry.cc:112] Plugin optimizer for device_type GPU is enabled.\n"
     ]
    },
    {
     "name": "stdout",
     "output_type": "stream",
     "text": [
      "30/30 [==============================] - ETA: 0s - loss: 1.0739 - accuracy: 0.7347"
     ]
    },
    {
     "name": "stderr",
     "output_type": "stream",
     "text": [
      "2022-05-02 08:24:05.902809: I tensorflow/core/grappler/optimizers/custom_graph_optimizer_registry.cc:112] Plugin optimizer for device_type GPU is enabled.\n"
     ]
    },
    {
     "name": "stdout",
     "output_type": "stream",
     "text": [
      "30/30 [==============================] - 1s 24ms/step - loss: 1.0739 - accuracy: 0.7347 - val_loss: 0.7178 - val_accuracy: 0.8216\n",
      "Epoch 2/20\n",
      "30/30 [==============================] - 0s 14ms/step - loss: 0.6681 - accuracy: 0.8349 - val_loss: 0.6423 - val_accuracy: 0.8567\n",
      "Epoch 3/20\n",
      "30/30 [==============================] - 0s 13ms/step - loss: 0.6158 - accuracy: 0.8520 - val_loss: 0.6063 - val_accuracy: 0.8562\n",
      "Epoch 4/20\n",
      "30/30 [==============================] - 0s 14ms/step - loss: 0.5883 - accuracy: 0.8596 - val_loss: 0.5924 - val_accuracy: 0.8597\n",
      "Epoch 5/20\n",
      "30/30 [==============================] - 0s 13ms/step - loss: 0.5666 - accuracy: 0.8645 - val_loss: 0.6201 - val_accuracy: 0.8359\n",
      "Epoch 6/20\n",
      "30/30 [==============================] - 0s 13ms/step - loss: 0.5577 - accuracy: 0.8694 - val_loss: 0.5996 - val_accuracy: 0.8451\n",
      "Epoch 7/20\n",
      "30/30 [==============================] - 0s 15ms/step - loss: 0.5434 - accuracy: 0.8714 - val_loss: 0.5542 - val_accuracy: 0.8668\n",
      "Epoch 8/20\n",
      "30/30 [==============================] - 0s 13ms/step - loss: 0.5338 - accuracy: 0.8737 - val_loss: 0.5419 - val_accuracy: 0.8679\n",
      "Epoch 9/20\n",
      "30/30 [==============================] - 0s 12ms/step - loss: 0.5289 - accuracy: 0.8729 - val_loss: 0.5587 - val_accuracy: 0.8621\n",
      "Epoch 10/20\n",
      "30/30 [==============================] - 0s 12ms/step - loss: 0.5186 - accuracy: 0.8801 - val_loss: 0.5372 - val_accuracy: 0.8715\n",
      "Epoch 11/20\n",
      "30/30 [==============================] - 0s 12ms/step - loss: 0.5121 - accuracy: 0.8825 - val_loss: 0.5400 - val_accuracy: 0.8686\n",
      "Epoch 12/20\n",
      "30/30 [==============================] - 0s 13ms/step - loss: 0.5084 - accuracy: 0.8811 - val_loss: 0.5264 - val_accuracy: 0.8722\n",
      "Epoch 13/20\n",
      "30/30 [==============================] - 0s 13ms/step - loss: 0.4956 - accuracy: 0.8860 - val_loss: 0.5191 - val_accuracy: 0.8734\n",
      "Epoch 14/20\n",
      "30/30 [==============================] - 0s 13ms/step - loss: 0.4940 - accuracy: 0.8870 - val_loss: 0.5247 - val_accuracy: 0.8704\n",
      "Epoch 15/20\n",
      "30/30 [==============================] - 0s 13ms/step - loss: 0.4826 - accuracy: 0.8913 - val_loss: 0.5107 - val_accuracy: 0.8760\n",
      "Epoch 16/20\n",
      "30/30 [==============================] - 0s 13ms/step - loss: 0.4788 - accuracy: 0.8935 - val_loss: 0.5519 - val_accuracy: 0.8537\n",
      "Epoch 17/20\n",
      "30/30 [==============================] - 0s 12ms/step - loss: 0.4746 - accuracy: 0.8929 - val_loss: 0.5121 - val_accuracy: 0.8740\n",
      "Epoch 18/20\n",
      "30/30 [==============================] - 0s 12ms/step - loss: 0.4658 - accuracy: 0.8962 - val_loss: 0.5148 - val_accuracy: 0.8701\n",
      "Epoch 19/20\n",
      "30/30 [==============================] - 0s 12ms/step - loss: 0.4627 - accuracy: 0.8966 - val_loss: 0.5405 - val_accuracy: 0.8571\n",
      "Epoch 20/20\n",
      "30/30 [==============================] - 0s 12ms/step - loss: 0.4584 - accuracy: 0.9003 - val_loss: 0.5087 - val_accuracy: 0.8754\n"
     ]
    }
   ],
   "source": [
    "model_l1 = keras.Sequential([\n",
    "    layers.Dense(\n",
    "        16, \n",
    "        kernel_regularizer=keras.regularizers.l1(0.001),\n",
    "        activation=\"relu\"),\n",
    "    layers.Dense(\n",
    "        16, \n",
    "        kernel_regularizer=keras.regularizers.l1(0.001),\n",
    "        activation=\"relu\"),\n",
    "    layers.Dense(1, activation=\"sigmoid\")\n",
    "])\n",
    "\n",
    "model_l1.compile(\n",
    "    optimizer=\"rmsprop\",\n",
    "    loss=\"binary_crossentropy\",\n",
    "    metrics=[\"accuracy\"]\n",
    ")\n",
    "\n",
    "history_model_l1 = model_l1.fit(\n",
    "    train_data, train_labels,\n",
    "    epochs = 20, batch_size = 512,\n",
    "    validation_split = 0.4\n",
    ")"
   ]
  },
  {
   "cell_type": "code",
   "execution_count": 34,
   "metadata": {},
   "outputs": [
    {
     "name": "stdout",
     "output_type": "stream",
     "text": [
      "Epoch 1/20\n"
     ]
    },
    {
     "name": "stderr",
     "output_type": "stream",
     "text": [
      "2022-05-02 08:25:33.235350: I tensorflow/core/grappler/optimizers/custom_graph_optimizer_registry.cc:112] Plugin optimizer for device_type GPU is enabled.\n"
     ]
    },
    {
     "name": "stdout",
     "output_type": "stream",
     "text": [
      "29/30 [============================>.] - ETA: 0s - loss: 1.0942 - accuracy: 0.7277"
     ]
    },
    {
     "name": "stderr",
     "output_type": "stream",
     "text": [
      "2022-05-02 08:25:34.146234: I tensorflow/core/grappler/optimizers/custom_graph_optimizer_registry.cc:112] Plugin optimizer for device_type GPU is enabled.\n"
     ]
    },
    {
     "name": "stdout",
     "output_type": "stream",
     "text": [
      "30/30 [==============================] - 1s 26ms/step - loss: 1.0903 - accuracy: 0.7286 - val_loss: 0.7199 - val_accuracy: 0.8345\n",
      "Epoch 2/20\n",
      "30/30 [==============================] - 0s 12ms/step - loss: 0.6822 - accuracy: 0.8342 - val_loss: 0.6717 - val_accuracy: 0.8215\n",
      "Epoch 3/20\n",
      "30/30 [==============================] - 0s 14ms/step - loss: 0.6288 - accuracy: 0.8536 - val_loss: 0.6173 - val_accuracy: 0.8589\n",
      "Epoch 4/20\n",
      "30/30 [==============================] - 0s 13ms/step - loss: 0.5976 - accuracy: 0.8615 - val_loss: 0.6007 - val_accuracy: 0.8605\n",
      "Epoch 5/20\n",
      "30/30 [==============================] - 0s 13ms/step - loss: 0.5818 - accuracy: 0.8646 - val_loss: 0.6086 - val_accuracy: 0.8444\n",
      "Epoch 6/20\n",
      "30/30 [==============================] - 0s 15ms/step - loss: 0.5655 - accuracy: 0.8681 - val_loss: 0.5920 - val_accuracy: 0.8533\n",
      "Epoch 7/20\n",
      "30/30 [==============================] - 0s 13ms/step - loss: 0.5539 - accuracy: 0.8695 - val_loss: 0.5670 - val_accuracy: 0.8637\n",
      "Epoch 8/20\n",
      "30/30 [==============================] - 0s 13ms/step - loss: 0.5435 - accuracy: 0.8741 - val_loss: 0.5552 - val_accuracy: 0.8642\n",
      "Epoch 9/20\n",
      "30/30 [==============================] - 0s 13ms/step - loss: 0.5347 - accuracy: 0.8760 - val_loss: 0.5582 - val_accuracy: 0.8691\n",
      "Epoch 10/20\n",
      "30/30 [==============================] - 0s 13ms/step - loss: 0.5238 - accuracy: 0.8808 - val_loss: 0.5417 - val_accuracy: 0.8689\n",
      "Epoch 11/20\n",
      "30/30 [==============================] - 0s 13ms/step - loss: 0.5162 - accuracy: 0.8837 - val_loss: 0.5643 - val_accuracy: 0.8580\n",
      "Epoch 12/20\n",
      "30/30 [==============================] - 0s 13ms/step - loss: 0.5144 - accuracy: 0.8807 - val_loss: 0.5326 - val_accuracy: 0.8713\n",
      "Epoch 13/20\n",
      "30/30 [==============================] - 0s 13ms/step - loss: 0.5069 - accuracy: 0.8836 - val_loss: 0.5805 - val_accuracy: 0.8459\n",
      "Epoch 14/20\n",
      "30/30 [==============================] - 0s 13ms/step - loss: 0.5022 - accuracy: 0.8841 - val_loss: 0.5401 - val_accuracy: 0.8679\n",
      "Epoch 15/20\n",
      "30/30 [==============================] - 0s 13ms/step - loss: 0.4938 - accuracy: 0.8899 - val_loss: 0.5323 - val_accuracy: 0.8668\n",
      "Epoch 16/20\n",
      "30/30 [==============================] - 0s 12ms/step - loss: 0.4938 - accuracy: 0.8851 - val_loss: 0.5247 - val_accuracy: 0.8713\n",
      "Epoch 17/20\n",
      "30/30 [==============================] - 0s 13ms/step - loss: 0.4877 - accuracy: 0.8919 - val_loss: 0.5258 - val_accuracy: 0.8683\n",
      "Epoch 18/20\n",
      "30/30 [==============================] - 0s 12ms/step - loss: 0.4851 - accuracy: 0.8947 - val_loss: 0.5117 - val_accuracy: 0.8761\n",
      "Epoch 19/20\n",
      "30/30 [==============================] - 0s 13ms/step - loss: 0.4819 - accuracy: 0.8927 - val_loss: 0.5196 - val_accuracy: 0.8721\n",
      "Epoch 20/20\n",
      "30/30 [==============================] - 0s 12ms/step - loss: 0.4718 - accuracy: 0.8964 - val_loss: 0.5078 - val_accuracy: 0.8750\n"
     ]
    }
   ],
   "source": [
    "model_l1l2 = keras.Sequential([\n",
    "    layers.Dense(\n",
    "        16, \n",
    "        kernel_regularizer=keras.regularizers.l1_l2(l1=0.001, l2=0.001),\n",
    "        activation=\"relu\"),\n",
    "    layers.Dense(\n",
    "        16, \n",
    "        kernel_regularizer=keras.regularizers.l1_l2(l1=0.001, l2=0.001),\n",
    "        activation=\"relu\"),\n",
    "    layers.Dense(1, activation=\"sigmoid\")\n",
    "])\n",
    "\n",
    "model_l1l2.compile(\n",
    "    optimizer=\"rmsprop\",\n",
    "    loss=\"binary_crossentropy\",\n",
    "    metrics=[\"accuracy\"]\n",
    ")\n",
    "\n",
    "history_model_l1l2 = model_l1l2.fit(\n",
    "    train_data, train_labels,\n",
    "    epochs = 20, batch_size = 512,\n",
    "    validation_split = 0.4\n",
    ")"
   ]
  },
  {
   "cell_type": "code",
   "execution_count": 35,
   "metadata": {},
   "outputs": [
    {
     "data": {
      "text/plain": [
       "<matplotlib.legend.Legend at 0x464eac070>"
      ]
     },
     "execution_count": 35,
     "metadata": {},
     "output_type": "execute_result"
    },
    {
     "data": {
      "image/png": "[encoded data removed]",
      "text/plain": [
       "<Figure size 432x288 with 1 Axes>"
      ]
     },
     "metadata": {
      "needs_background": "light"
     },
     "output_type": "display_data"
    }
   ],
   "source": [
    "val_loss_original = history_original.history[\"val_loss\"]\n",
    "val_loss_l1 = history_model_l1.history[\"val_loss\"]\n",
    "val_loss_l1l2 = history_model_l1l2.history[\"val_loss\"]\n",
    "epochs = range(0, 20)\n",
    "plt.plot(epochs, val_loss_original, \"b--\",\n",
    "         label=\"Validation loss of original model\")\n",
    "plt.plot(epochs, val_loss_l1, \"b\",\n",
    "         label=\"Validation loss of L1 model\")\n",
    "plt.plot(epochs, val_loss_l1l2, \"b:\",\n",
    "         label=\"Validation loss of L1 L2 model\")\n",
    "\n",
    "# plt.title(\"Effect of noise channels on validation accuracy\")\n",
    "plt.xlabel(\"Epochs\")\n",
    "plt.ylabel(\"Loss\")\n",
    "plt.legend()"
   ]
  },
  {
   "cell_type": "code",
   "execution_count": 36,
   "metadata": {},
   "outputs": [
    {
     "name": "stdout",
     "output_type": "stream",
     "text": [
      "Epoch 1/20\n"
     ]
    },
    {
     "name": "stderr",
     "output_type": "stream",
     "text": [
      "2022-05-02 08:30:30.497877: I tensorflow/core/grappler/optimizers/custom_graph_optimizer_registry.cc:112] Plugin optimizer for device_type GPU is enabled.\n"
     ]
    },
    {
     "name": "stdout",
     "output_type": "stream",
     "text": [
      "30/30 [==============================] - 1s 25ms/step - loss: 0.6457 - accuracy: 0.6231 - val_loss: 0.5597 - val_accuracy: 0.8110\n"
     ]
    },
    {
     "name": "stderr",
     "output_type": "stream",
     "text": [
      "2022-05-02 08:30:31.384983: I tensorflow/core/grappler/optimizers/custom_graph_optimizer_registry.cc:112] Plugin optimizer for device_type GPU is enabled.\n"
     ]
    },
    {
     "name": "stdout",
     "output_type": "stream",
     "text": [
      "Epoch 2/20\n",
      "30/30 [==============================] - 0s 15ms/step - loss: 0.5289 - accuracy: 0.7417 - val_loss: 0.4380 - val_accuracy: 0.8698\n",
      "Epoch 3/20\n",
      "30/30 [==============================] - 0s 13ms/step - loss: 0.4430 - accuracy: 0.8065 - val_loss: 0.3747 - val_accuracy: 0.8735\n",
      "Epoch 4/20\n",
      "30/30 [==============================] - 0s 13ms/step - loss: 0.3829 - accuracy: 0.8491 - val_loss: 0.3248 - val_accuracy: 0.8850\n",
      "Epoch 5/20\n",
      "30/30 [==============================] - 0s 14ms/step - loss: 0.3340 - accuracy: 0.8881 - val_loss: 0.3029 - val_accuracy: 0.8859\n",
      "Epoch 6/20\n",
      "30/30 [==============================] - 0s 14ms/step - loss: 0.2939 - accuracy: 0.9083 - val_loss: 0.3033 - val_accuracy: 0.8881\n",
      "Epoch 7/20\n",
      "30/30 [==============================] - 0s 13ms/step - loss: 0.2499 - accuracy: 0.9261 - val_loss: 0.2908 - val_accuracy: 0.8888\n",
      "Epoch 8/20\n",
      "30/30 [==============================] - 0s 14ms/step - loss: 0.2306 - accuracy: 0.9357 - val_loss: 0.3055 - val_accuracy: 0.8911\n",
      "Epoch 9/20\n",
      "30/30 [==============================] - 0s 13ms/step - loss: 0.2029 - accuracy: 0.9432 - val_loss: 0.3083 - val_accuracy: 0.8881\n",
      "Epoch 10/20\n",
      "30/30 [==============================] - 0s 13ms/step - loss: 0.1799 - accuracy: 0.9525 - val_loss: 0.3340 - val_accuracy: 0.8903\n",
      "Epoch 11/20\n",
      "30/30 [==============================] - 0s 13ms/step - loss: 0.1622 - accuracy: 0.9547 - val_loss: 0.3526 - val_accuracy: 0.8873\n",
      "Epoch 12/20\n",
      "30/30 [==============================] - 0s 14ms/step - loss: 0.1418 - accuracy: 0.9623 - val_loss: 0.4062 - val_accuracy: 0.8867\n",
      "Epoch 13/20\n",
      "30/30 [==============================] - 0s 13ms/step - loss: 0.1252 - accuracy: 0.9681 - val_loss: 0.4128 - val_accuracy: 0.8853\n",
      "Epoch 14/20\n",
      "30/30 [==============================] - 0s 13ms/step - loss: 0.1201 - accuracy: 0.9685 - val_loss: 0.4361 - val_accuracy: 0.8832\n",
      "Epoch 15/20\n",
      "30/30 [==============================] - 0s 13ms/step - loss: 0.1036 - accuracy: 0.9730 - val_loss: 0.4889 - val_accuracy: 0.8823\n",
      "Epoch 16/20\n",
      "30/30 [==============================] - 0s 13ms/step - loss: 0.1003 - accuracy: 0.9742 - val_loss: 0.4702 - val_accuracy: 0.8789\n",
      "Epoch 17/20\n",
      "30/30 [==============================] - 0s 13ms/step - loss: 0.0929 - accuracy: 0.9756 - val_loss: 0.5788 - val_accuracy: 0.8806\n",
      "Epoch 18/20\n",
      "30/30 [==============================] - 0s 13ms/step - loss: 0.0857 - accuracy: 0.9788 - val_loss: 0.6073 - val_accuracy: 0.8814\n",
      "Epoch 19/20\n",
      "30/30 [==============================] - 0s 14ms/step - loss: 0.0810 - accuracy: 0.9794 - val_loss: 0.5344 - val_accuracy: 0.8779\n",
      "Epoch 20/20\n",
      "30/30 [==============================] - 0s 13ms/step - loss: 0.0769 - accuracy: 0.9805 - val_loss: 0.5921 - val_accuracy: 0.8806\n"
     ]
    }
   ],
   "source": [
    "model_do = keras.Sequential([\n",
    "    layers.Dense(16, activation=\"relu\"),\n",
    "    layers.Dropout(0.5),\n",
    "    layers.Dense(16, activation=\"relu\"),\n",
    "    layers.Dropout(0.5),\n",
    "    layers.Dense(1, activation=\"sigmoid\")\n",
    "])\n",
    "model_do.compile(optimizer=\"rmsprop\",\n",
    "              loss=\"binary_crossentropy\",\n",
    "              metrics=[\"accuracy\"])\n",
    "history_dropout = model_do.fit(\n",
    "    train_data, train_labels,\n",
    "    epochs=20, batch_size=512, validation_split=0.4)"
   ]
  },
  {
   "cell_type": "code",
   "execution_count": 38,
   "metadata": {},
   "outputs": [
    {
     "data": {
      "text/plain": [
       "<matplotlib.legend.Legend at 0x3d26d61c0>"
      ]
     },
     "execution_count": 38,
     "metadata": {},
     "output_type": "execute_result"
    },
    {
     "data": {
      "image/png": "[encoded data removed]",
      "text/plain": [
       "<Figure size 432x288 with 1 Axes>"
      ]
     },
     "metadata": {
      "needs_background": "light"
     },
     "output_type": "display_data"
    }
   ],
   "source": [
    "val_loss_original = history_original.history[\"val_loss\"]\n",
    "val_loss_l1 = history_model_l1.history[\"val_loss\"]\n",
    "val_loss_l1l2 = history_model_l1l2.history[\"val_loss\"]\n",
    "val_loss_do = history_dropout.history[\"val_loss\"]\n",
    "epochs = range(0, 20)\n",
    "plt.plot(epochs, val_loss_original, \"b--\",\n",
    "         label=\"Validation loss of original model\")\n",
    "# plt.plot(epochs, val_loss_l1, \"b\",\n",
    "#          label=\"Validation loss of L1 model\")\n",
    "# plt.plot(epochs, val_loss_l1l2, \"b:\",\n",
    "#          label=\"Validation loss of L1 L2 model\")\n",
    "plt.plot(epochs, val_loss_do, \"b-.\",\n",
    "         label=\"Validation loss of Dropout model\")\n",
    "\n",
    "# plt.title(\"Effect of noise channels on validation accuracy\")\n",
    "plt.xlabel(\"Epochs\")\n",
    "plt.ylabel(\"Loss\")\n",
    "plt.legend()"
   ]
  }
 ],
 "metadata": {
  "interpreter": {
   "hash": "40527a5e21a0fe71350810bdaf893be95d4327fbe99858a2d25f6483c406c492"
  },
  "kernelspec": {
   "display_name": "Python 3.8.12 ('tf')",
   "language": "python",
   "name": "python3"
  },
  "language_info": {
   "codemirror_mode": {
    "name": "ipython",
    "version": 3
   },
   "file_extension": ".py",
   "mimetype": "text/x-python",
   "name": "python",
   "nbconvert_exporter": "python",
   "pygments_lexer": "ipython3",
   "version": "3.8.12"
  },
  "orig_nbformat": 4
 },
 "nbformat": 4,
 "nbformat_minor": 2
}
